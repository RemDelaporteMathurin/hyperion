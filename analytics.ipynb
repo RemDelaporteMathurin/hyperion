{
 "cells": [
  {
   "cell_type": "markdown",
   "metadata": {},
   "source": []
  },
  {
   "cell_type": "code",
   "execution_count": 15,
   "metadata": {},
   "outputs": [],
   "source": [
    "import sympy as sp"
   ]
  },
  {
   "cell_type": "code",
   "execution_count": 16,
   "metadata": {},
   "outputs": [],
   "source": [
    "c0 = sp.Symbol(\"c_0\", positive=True)\n",
    "L = sp.Symbol(\"L\", positive=True)\n",
    "x = sp.Symbol(\"x\", positive=True)\n",
    "t = sp.Symbol(\"t\", positive=True)\n",
    "D = sp.Symbol(\"D\", positive=True)\n",
    "n = sp.Symbol(\"n\", integer=True, positive=True)\n",
    "\n",
    "c = sp.Function(\"c\")(x, t)\n"
   ]
  },
  {
   "cell_type": "code",
   "execution_count": 17,
   "metadata": {},
   "outputs": [
    {
     "data": {
      "text/latex": [
       "$\\displaystyle c{\\left(x,t \\right)} = c_{0} \\cdot \\left(1 - \\frac{x}{L}\\right) + \\sum_{n=1}^{\\infty} - \\frac{2 c_{0} e^{- \\frac{\\pi^{2} D n^{2} t}{L^{2}}} \\sin{\\left(\\frac{\\pi n x}{L} \\right)}}{\\pi n}$"
      ],
      "text/plain": [
       "Eq(c(x, t), c_0*(1 - x/L) + Sum(-2*c_0*exp(-pi**2*D*n**2*t/L**2)*sin(pi*n*x/L)/(pi*n), (n, 1, oo)))"
      ]
     },
     "execution_count": 17,
     "metadata": {},
     "output_type": "execute_result"
    }
   ],
   "source": [
    "integral = c0 * L * (1 - sp.sin(sp.pi * n)/(sp.pi * n))\n",
    "\n",
    "f = 0\n",
    "c_E_x = c0*(1-x/L)\n",
    "\n",
    "integral = sp.integrate((f-c_E_x)*sp.sin(n*sp.pi*x/L), (x, 0, L))\n",
    "\n",
    "Bn = 2/L * integral\n",
    "infinite_sum = sp.Sum(Bn * sp.sin(n*sp.pi*x/L) * sp.exp(-D*(n*sp.pi/L)**2 * t), (n, 1, sp.oo))\n",
    "\n",
    "c_expr = c0 * (1 - x/L) + infinite_sum\n",
    "sp.Eq(c, c_expr)"
   ]
  },
  {
   "cell_type": "code",
   "execution_count": 18,
   "metadata": {},
   "outputs": [
    {
     "data": {
      "text/latex": [
       "$\\displaystyle \\frac{D c_{0} \\cdot \\left(2 \\sum_{n=1}^{\\infty} \\left(-1\\right)^{n} e^{- \\frac{\\pi^{2} D n^{2} t}{L^{2}}} + 1\\right)}{L}$"
      ],
      "text/plain": [
       "D*c_0*(2*Sum((-1)**n*exp(-pi**2*D*n**2*t/L**2), (n, 1, oo)) + 1)/L"
      ]
     },
     "execution_count": 18,
     "metadata": {},
     "output_type": "execute_result"
    }
   ],
   "source": [
    "flux_expr = -D*sp.diff(c_expr, x).subs(x, L)\n",
    "flux_expr.simplify()"
   ]
  },
  {
   "cell_type": "code",
   "execution_count": 19,
   "metadata": {},
   "outputs": [
    {
     "data": {
      "text/latex": [
       "$\\displaystyle \\frac{P_\\mathrm{up} \\Phi \\left(2 \\sum_{n=1}^{\\infty} \\left(-1\\right)^{n} e^{- \\frac{\\pi^{2} D n^{2} t}{L^{2}}} + 1\\right)}{L}$"
      ],
      "text/plain": [
       "P_\\mathrm{up}*\\Phi*(2*Sum((-1)**n*exp(-pi**2*D*n**2*t/L**2), (n, 1, oo)) + 1)/L"
      ]
     },
     "execution_count": 19,
     "metadata": {},
     "output_type": "execute_result"
    }
   ],
   "source": [
    "K_H = sp.Symbol(\"K_H\")\n",
    "P_up = sp.Symbol(\"P_\\mathrm{up}\")\n",
    "perm = sp.Symbol(\"\\Phi\")\n",
    "\n",
    "flux_expr = flux_expr.subs(c0, K_H * P_up).simplify()\n",
    "flux_expr = flux_expr.subs(D*K_H, perm).simplify()\n",
    "flux_expr"
   ]
  },
  {
   "cell_type": "code",
   "execution_count": 21,
   "metadata": {},
   "outputs": [
    {
     "data": {
      "image/png": "[encoded data removed]",
      "text/plain": [
       "<Figure size 640x480 with 1 Axes>"
      ]
     },
     "metadata": {},
     "output_type": "display_data"
    }
   ],
   "source": [
    "import numpy as np\n",
    "\n",
    "P_up = 2\n",
    "perm = 1\n",
    "D = 0.5\n",
    "L = 2\n",
    "\n",
    "n_array = np.arange(1, 10000)[:, np.newaxis]\n",
    "t_array = np.linspace(1e-8, 5, num=500)\n",
    "\n",
    "\n",
    "flux = P_up * perm / L * (2* np.sum((-1)**n_array * np.exp(-(np.pi * n_array)**2 * D/L**2 * t_array), axis=0) + 1)\n",
    "flux[0] = 0\n",
    "\n",
    "import matplotlib.pyplot as plt\n",
    "plt.plot(t_array, flux)\n",
    "plt.xlabel(r\"$t$\")\n",
    "plt.ylabel(\"Downstream flux\")\n",
    "plt.show()"
   ]
  }
 ],
 "metadata": {
  "kernelspec": {
   "display_name": "Python 3",
   "language": "python",
   "name": "python3"
  },
  "language_info": {
   "codemirror_mode": {
    "name": "ipython",
    "version": 3
   },
   "file_extension": ".py",
   "mimetype": "text/x-python",
   "name": "python",
   "nbconvert_exporter": "python",
   "pygments_lexer": "ipython3",
   "version": "3.11.1"
  },
  "orig_nbformat": 4,
  "vscode": {
   "interpreter": {
    "hash": "5238573367df39f7286bb46f9ff5f08f63a01a80960060ce41e3c79b190280fa"
   }
  }
 },
 "nbformat": 4,
 "nbformat_minor": 2
}
