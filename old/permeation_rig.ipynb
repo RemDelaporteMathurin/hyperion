{
 "cells": [
  {
   "attachments": {},
   "cell_type": "markdown",
   "metadata": {},
   "source": [
    "# Permeation method for hydrogen transport properties in molten salt\n",
    "\n",
    "In this notebook we'll describe the method employed to estimate the diffusivity and solubility of hydrogen in molten salt using a permeation rig.\n",
    "\n",
    "The principle of the measurement is to have hydrogen diffusing through a membrane (here a salt, with a negligible metal membrane). The upstream pressure is kept constant and the downstream volume will experience a pressure rise. The steady state pressure rise then gives information on the salt permeability and the time-lag (detailed below) gives an insight on the diffusivity. The ratio of the permeability and diffusivity yields the solubility.\n",
    "\n",
    "Note: having a closed downstream volume slightly differs from Fukada's experiment on FLiNaK (2006) where the authors swept the downstream gas at a constant rate.\n",
    "\n",
    "The experimental pressure rise will be mimicked by an analytical solution and we will then quantify the error propagation.\n",
    "\n",
    "## Generating the data\n",
    "Let us first find the salt properties in the literature using HTM. We will use the Fukada 2006 paper."
   ]
  },
  {
   "cell_type": "code",
   "execution_count": 63,
   "metadata": {},
   "outputs": [
    {
     "name": "stdout",
     "output_type": "stream",
     "text": [
      "Diffusivity:\n",
      "\n",
      "        Author: Fukada\n",
      "        Material: flinak\n",
      "        Year: 2006\n",
      "        Isotope: H\n",
      "        Pre-exponential factor: 3.70×10⁻⁶ m²/s\n",
      "        Activation energy: 4.50×10⁻¹ eV/particle\n",
      "        \n",
      "Solubility:\n",
      "\n",
      "        Author: Fukada\n",
      "        Material: flinak\n",
      "        Year: 2006\n",
      "        Isotope: H\n",
      "        Pre-exponential factor: 3.70×10⁻⁶ m²/s\n",
      "        Activation energy: 4.50×10⁻¹ eV/particle\n",
      "        \n"
     ]
    }
   ],
   "source": [
    "import h_transport_materials as htm\n",
    "\n",
    "ureg = htm.ureg\n",
    "ureg.setup_matplotlib()\n",
    "\n",
    "D_flinak = htm.diffusivities.filter(material=htm.FLINAK, author='fukada')[0]\n",
    "K_flinak = htm.solubilities.filter(material=htm.FLINAK, author='fukada')[0]\n",
    "\n",
    "print(\"Diffusivity:\")\n",
    "print(D_flinak)\n",
    "print(\"Solubility:\")\n",
    "print(D_flinak)"
   ]
  },
  {
   "attachments": {},
   "cell_type": "markdown",
   "metadata": {},
   "source": [
    "The experimental parameters:"
   ]
  },
  {
   "cell_type": "code",
   "execution_count": 64,
   "metadata": {},
   "outputs": [
    {
     "name": "stdout",
     "output_type": "stream",
     "text": [
      "1.1113808953304486e-08 meter ** 2 / second\n",
      "2.4501912127738196e+19 particle / meter ** 3 / pascal\n",
      "0.6 meter * millimeter\n"
     ]
    }
   ],
   "source": [
    "import numpy as np\n",
    "\n",
    "T = 900 * ureg.K  # temperature\n",
    "V_down = 1000 * ureg.cm**3  # downstream volume\n",
    "A = 2 * ureg.cm**2  # gas/salt interface surface area \n",
    "P_up = 1 * ureg.atm  # upstream pressure\n",
    "L = 40 * ureg.mm  # salt thickness\n",
    "\n",
    "# estimate properties at operating temperature\n",
    "D_flinak = D_flinak.value(T)\n",
    "print(D_flinak)\n",
    "\n",
    "K_flinak = K_flinak.value(T)\n",
    "\n",
    "print(K_flinak)\n",
    "permeability = D_flinak * K_flinak\n"
   ]
  },
  {
   "attachments": {},
   "cell_type": "markdown",
   "metadata": {},
   "source": [
    "We can now compute the transient analytical solution describing the downstream pressure rise.\n",
    "\n",
    "$$P_\\mathrm{down}(t) = R_g \\ T \\frac{A}{L \\ V_\\mathrm{down}} \\ \\Phi \\ P_\\mathrm{up} \\left[t - \\frac{L^2}{6 \\ D} - \\frac{2 \\ L^2}{\\pi^2 D} \\sum_{n=1}^\\infty \\frac{(-1)^{n+1}}{n^2} \\exp{\\left( -\\frac{D \\ n^2 \\pi^2}{L^2} t \\right)}\\right] $$\n",
    "\n",
    "where $P_\\mathrm{up}$ is the upstream pressure, $T$ is the temperature, $V$ is the downstream volume, $L$ is the thickness of salt, $R_g$ is the gas constant, and $A$ is the surface area of the gas/salt interface in the downstream chamber.\n",
    "\n",
    "For more details, see:\n",
    "- [Review of time lag permeation technique as a method for characterisation of porous media and membranes](https://link.springer.com/article/10.1007/BF01653631)\n",
    "- [Hydrogen transport and trapping in ODS-EUROFER](https://doi.org/10.1016/j.fusengdes.2007.02.002)"
   ]
  },
  {
   "cell_type": "code",
   "execution_count": 65,
   "metadata": {},
   "outputs": [
    {
     "name": "stdout",
     "output_type": "stream",
     "text": [
      "23994.174075430572 second\n"
     ]
    }
   ],
   "source": [
    "timelag = L.to(ureg.m)**2 / (6 * D_flinak)\n",
    "Rg = htm.Rg * ureg.Pa * ureg.m**3 * ureg.mol**-1 * ureg.K**-1  # gas constant\n",
    "\n",
    "# Analytical solution for transient downstream pressure rise\n",
    "def downstream_pressure(t):\n",
    "\n",
    "\n",
    "    sum_term = 0\n",
    "    for n in np.arange(1, 1000):\n",
    "        sum_term += (\n",
    "            (-1) ** (n+1) / n**2 * np.exp(-D_flinak * n**2 * np.pi**2 * t / L**2)\n",
    "        )\n",
    "\n",
    "    transient_term = 2 * L**2 / (np.pi**2 * D_flinak) * sum_term\n",
    "    return Rg * T / V_down * A / L * permeability * P_up * (t - timelag + transient_term)"
   ]
  },
  {
   "cell_type": "code",
   "execution_count": 66,
   "metadata": {},
   "outputs": [
    {
     "ename": "DimensionalityError",
     "evalue": "Cannot convert from 'meter ** 5 * minute * particle * pascal * standard_atmosphere / centimeter / kelvin / millimeter / mole ** 2 / second' ([length] * [mass] ** 2 / [substance] / [temperature] / [time] ** 4) to 'pascal' ([mass] / [length] / [time] ** 2)",
     "output_type": "error",
     "traceback": [
      "\u001b[1;31m---------------------------------------------------------------------------\u001b[0m",
      "\u001b[1;31mDimensionalityError\u001b[0m                       Traceback (most recent call last)",
      "Cell \u001b[1;32mIn[66], line 4\u001b[0m\n\u001b[0;32m      1\u001b[0m \u001b[39mimport\u001b[39;00m \u001b[39mmatplotlib\u001b[39;00m\u001b[39m.\u001b[39;00m\u001b[39mpyplot\u001b[39;00m \u001b[39mas\u001b[39;00m \u001b[39mplt\u001b[39;00m\n\u001b[0;32m      3\u001b[0m t \u001b[39m=\u001b[39m np\u001b[39m.\u001b[39mlinspace(\u001b[39m0\u001b[39m, \u001b[39m10\u001b[39m \u001b[39m*\u001b[39m timelag)\u001b[39m.\u001b[39mto(ureg\u001b[39m.\u001b[39mmin)\n\u001b[1;32m----> 4\u001b[0m p_down \u001b[39m=\u001b[39m downstream_pressure(t)\u001b[39m.\u001b[39;49mto(ureg\u001b[39m.\u001b[39;49mPa)\n\u001b[0;32m      6\u001b[0m plt\u001b[39m.\u001b[39mplot(t, p_down)\n\u001b[0;32m      7\u001b[0m plt\u001b[39m.\u001b[39mxlabel(\u001b[39mf\u001b[39m\u001b[39m\"\u001b[39m\u001b[39mTime (\u001b[39m\u001b[39m{\u001b[39;00mt\u001b[39m.\u001b[39munits\u001b[39m:\u001b[39;00m\u001b[39m~\u001b[39m\u001b[39m}\u001b[39;00m\u001b[39m)\u001b[39m\u001b[39m\"\u001b[39m)\n",
      "File \u001b[1;32mc:\\Users\\jfcot\\AppData\\Local\\Programs\\Python\\Python311\\Lib\\site-packages\\pint\\facets\\plain\\quantity.py:517\u001b[0m, in \u001b[0;36mPlainQuantity.to\u001b[1;34m(self, other, *contexts, **ctx_kwargs)\u001b[0m\n\u001b[0;32m    500\u001b[0m \u001b[39m\u001b[39m\u001b[39m\"\"\"Return PlainQuantity rescaled to different units.\u001b[39;00m\n\u001b[0;32m    501\u001b[0m \n\u001b[0;32m    502\u001b[0m \u001b[39mParameters\u001b[39;00m\n\u001b[1;32m   (...)\u001b[0m\n\u001b[0;32m    513\u001b[0m \u001b[39mpint.PlainQuantity\u001b[39;00m\n\u001b[0;32m    514\u001b[0m \u001b[39m\"\"\"\u001b[39;00m\n\u001b[0;32m    515\u001b[0m other \u001b[39m=\u001b[39m to_units_container(other, \u001b[39mself\u001b[39m\u001b[39m.\u001b[39m_REGISTRY)\n\u001b[1;32m--> 517\u001b[0m magnitude \u001b[39m=\u001b[39m \u001b[39mself\u001b[39;49m\u001b[39m.\u001b[39;49m_convert_magnitude_not_inplace(other, \u001b[39m*\u001b[39;49mcontexts, \u001b[39m*\u001b[39;49m\u001b[39m*\u001b[39;49mctx_kwargs)\n\u001b[0;32m    519\u001b[0m \u001b[39mreturn\u001b[39;00m \u001b[39mself\u001b[39m\u001b[39m.\u001b[39m\u001b[39m__class__\u001b[39m(magnitude, other)\n",
      "File \u001b[1;32mc:\\Users\\jfcot\\AppData\\Local\\Programs\\Python\\Python311\\Lib\\site-packages\\pint\\facets\\plain\\quantity.py:462\u001b[0m, in \u001b[0;36mPlainQuantity._convert_magnitude_not_inplace\u001b[1;34m(self, other, *contexts, **ctx_kwargs)\u001b[0m\n\u001b[0;32m    459\u001b[0m     \u001b[39mwith\u001b[39;00m \u001b[39mself\u001b[39m\u001b[39m.\u001b[39m_REGISTRY\u001b[39m.\u001b[39mcontext(\u001b[39m*\u001b[39mcontexts, \u001b[39m*\u001b[39m\u001b[39m*\u001b[39mctx_kwargs):\n\u001b[0;32m    460\u001b[0m         \u001b[39mreturn\u001b[39;00m \u001b[39mself\u001b[39m\u001b[39m.\u001b[39m_REGISTRY\u001b[39m.\u001b[39mconvert(\u001b[39mself\u001b[39m\u001b[39m.\u001b[39m_magnitude, \u001b[39mself\u001b[39m\u001b[39m.\u001b[39m_units, other)\n\u001b[1;32m--> 462\u001b[0m \u001b[39mreturn\u001b[39;00m \u001b[39mself\u001b[39;49m\u001b[39m.\u001b[39;49m_REGISTRY\u001b[39m.\u001b[39;49mconvert(\u001b[39mself\u001b[39;49m\u001b[39m.\u001b[39;49m_magnitude, \u001b[39mself\u001b[39;49m\u001b[39m.\u001b[39;49m_units, other)\n",
      "File \u001b[1;32mc:\\Users\\jfcot\\AppData\\Local\\Programs\\Python\\Python311\\Lib\\site-packages\\pint\\facets\\plain\\registry.py:961\u001b[0m, in \u001b[0;36mGenericPlainRegistry.convert\u001b[1;34m(self, value, src, dst, inplace)\u001b[0m\n\u001b[0;32m    958\u001b[0m \u001b[39mif\u001b[39;00m src \u001b[39m==\u001b[39m dst:\n\u001b[0;32m    959\u001b[0m     \u001b[39mreturn\u001b[39;00m value\n\u001b[1;32m--> 961\u001b[0m \u001b[39mreturn\u001b[39;00m \u001b[39mself\u001b[39;49m\u001b[39m.\u001b[39;49m_convert(value, src, dst, inplace)\n",
      "File \u001b[1;32mc:\\Users\\jfcot\\AppData\\Local\\Programs\\Python\\Python311\\Lib\\site-packages\\pint\\facets\\context\\registry.py:403\u001b[0m, in \u001b[0;36mGenericContextRegistry._convert\u001b[1;34m(self, value, src, dst, inplace)\u001b[0m\n\u001b[0;32m    399\u001b[0m             src \u001b[39m=\u001b[39m \u001b[39mself\u001b[39m\u001b[39m.\u001b[39m_active_ctx\u001b[39m.\u001b[39mtransform(a, b, \u001b[39mself\u001b[39m, src)\n\u001b[0;32m    401\u001b[0m         value, src \u001b[39m=\u001b[39m src\u001b[39m.\u001b[39m_magnitude, src\u001b[39m.\u001b[39m_units\n\u001b[1;32m--> 403\u001b[0m \u001b[39mreturn\u001b[39;00m \u001b[39msuper\u001b[39;49m()\u001b[39m.\u001b[39;49m_convert(value, src, dst, inplace)\n",
      "File \u001b[1;32mc:\\Users\\jfcot\\AppData\\Local\\Programs\\Python\\Python311\\Lib\\site-packages\\pint\\facets\\nonmultiplicative\\registry.py:254\u001b[0m, in \u001b[0;36mGenericNonMultiplicativeRegistry._convert\u001b[1;34m(self, value, src, dst, inplace)\u001b[0m\n\u001b[0;32m    249\u001b[0m     \u001b[39mraise\u001b[39;00m DimensionalityError(\n\u001b[0;32m    250\u001b[0m         src, dst, extra_msg\u001b[39m=\u001b[39m\u001b[39mf\u001b[39m\u001b[39m\"\u001b[39m\u001b[39m - In destination units, \u001b[39m\u001b[39m{\u001b[39;00mex\u001b[39m}\u001b[39;00m\u001b[39m\"\u001b[39m\n\u001b[0;32m    251\u001b[0m     )\n\u001b[0;32m    253\u001b[0m \u001b[39mif\u001b[39;00m \u001b[39mnot\u001b[39;00m (src_offset_unit \u001b[39mor\u001b[39;00m dst_offset_unit):\n\u001b[1;32m--> 254\u001b[0m     \u001b[39mreturn\u001b[39;00m \u001b[39msuper\u001b[39;49m()\u001b[39m.\u001b[39;49m_convert(value, src, dst, inplace)\n\u001b[0;32m    256\u001b[0m src_dim \u001b[39m=\u001b[39m \u001b[39mself\u001b[39m\u001b[39m.\u001b[39m_get_dimensionality(src)\n\u001b[0;32m    257\u001b[0m dst_dim \u001b[39m=\u001b[39m \u001b[39mself\u001b[39m\u001b[39m.\u001b[39m_get_dimensionality(dst)\n",
      "File \u001b[1;32mc:\\Users\\jfcot\\AppData\\Local\\Programs\\Python\\Python311\\Lib\\site-packages\\pint\\facets\\plain\\registry.py:1000\u001b[0m, in \u001b[0;36mGenericPlainRegistry._convert\u001b[1;34m(self, value, src, dst, inplace, check_dimensionality)\u001b[0m\n\u001b[0;32m    997\u001b[0m     \u001b[39m# If the source and destination dimensionality are different,\u001b[39;00m\n\u001b[0;32m    998\u001b[0m     \u001b[39m# then the conversion cannot be performed.\u001b[39;00m\n\u001b[0;32m    999\u001b[0m     \u001b[39mif\u001b[39;00m src_dim \u001b[39m!=\u001b[39m dst_dim:\n\u001b[1;32m-> 1000\u001b[0m         \u001b[39mraise\u001b[39;00m DimensionalityError(src, dst, src_dim, dst_dim)\n\u001b[0;32m   1002\u001b[0m \u001b[39m# Here src and dst have only multiplicative units left. Thus we can\u001b[39;00m\n\u001b[0;32m   1003\u001b[0m \u001b[39m# convert with a factor.\u001b[39;00m\n\u001b[0;32m   1004\u001b[0m factor, _ \u001b[39m=\u001b[39m \u001b[39mself\u001b[39m\u001b[39m.\u001b[39m_get_root_units(src \u001b[39m/\u001b[39m dst)\n",
      "\u001b[1;31mDimensionalityError\u001b[0m: Cannot convert from 'meter ** 5 * minute * particle * pascal * standard_atmosphere / centimeter / kelvin / millimeter / mole ** 2 / second' ([length] * [mass] ** 2 / [substance] / [temperature] / [time] ** 4) to 'pascal' ([mass] / [length] / [time] ** 2)"
     ]
    }
   ],
   "source": [
    "import matplotlib.pyplot as plt\n",
    "\n",
    "t = np.linspace(0, 10 * timelag).to(ureg.min)\n",
    "p_down = downstream_pressure(t).to(ureg.Pa)\n",
    "\n",
    "plt.plot(t, p_down)\n",
    "plt.xlabel(f\"Time ({t.units:~})\")\n",
    "plt.ylabel(f\"Downstream pressure ({p_down.units:~})\")\n",
    "plt.show()\n"
   ]
  },
  {
   "attachments": {},
   "cell_type": "markdown",
   "metadata": {},
   "source": [
    "We can add some noise by assuming a 5% error on the low pressure side measurement."
   ]
  },
  {
   "cell_type": "code",
   "execution_count": null,
   "metadata": {},
   "outputs": [],
   "source": [
    "relative_p_down_error = 5/100\n",
    "relative_noise = np.random.normal(0, relative_p_down_error, t.shape)\n",
    "\n",
    "noisy_p_down = downstream_pressure(t) * (1 + relative_noise)\n",
    "noisy_p_down = noisy_p_down.to(ureg.Pa)\n",
    "\n",
    "yerr = relative_p_down_error*noisy_p_down\n",
    "\n",
    "plt.errorbar(t, noisy_p_down, yerr=yerr)\n",
    "plt.xlabel(f\"Time ({t.units:~})\")\n",
    "plt.ylabel(f\"Downstream pressure ({noisy_p_down.units:~})\")\n",
    "plt.show()"
   ]
  },
  {
   "attachments": {},
   "cell_type": "markdown",
   "metadata": {},
   "source": [
    "We fit the steady state pressure rise for $ t > 1200 \\ \\mathrm{min} $ with a linear function.\n"
   ]
  },
  {
   "cell_type": "code",
   "execution_count": null,
   "metadata": {},
   "outputs": [],
   "source": [
    "from scipy.optimize import curve_fit\n",
    "\n",
    "# select only t > 1200 min\n",
    "t_min_fit = 1200 * ureg.min\n",
    "indices_fit = np.where(t > t_min_fit)\n",
    "t_data_fit = t[indices_fit]\n",
    "p_down_data_fit = noisy_p_down[indices_fit]\n",
    "data_sigma_fit = relative_p_down_error * noisy_p_down[indices_fit]\n",
    "\n",
    "# fit the curve\n",
    "\n",
    "def linearFunc(x, intercept, slope):\n",
    "    y = intercept + slope * x\n",
    "    return y\n",
    "\n",
    "res, cov = curve_fit(\n",
    "    linearFunc,\n",
    "    t_data_fit.to(ureg.s).magnitude,\n",
    "    p_down_data_fit.to(ureg.Pa).magnitude,\n",
    "    sigma=data_sigma_fit.to(ureg.Pa).magnitude,\n",
    "    absolute_sigma=True,\n",
    ")\n",
    "\n",
    "fitted_intercept = res[0] * ureg.Pa\n",
    "fitted_slope = res[1] * ureg.Pa * ureg.s**-1\n",
    "\n",
    "# compute the uncertainties of slope and intercept\n",
    "d_inter = np.sqrt(cov[0][0]) * ureg.Pa\n",
    "d_slope = np.sqrt(cov[1][1]) * ureg.Pa * ureg.s**-1\n",
    "\n",
    "\n",
    "print(f\"Slope: {fitted_slope:.2e~P} with uncertainty {d_slope:.2e~P}\")\n",
    "print(f\"Intercept: {fitted_intercept:.2f~P} with uncertainty {d_inter:.2f~P}\")\n"
   ]
  },
  {
   "cell_type": "code",
   "execution_count": null,
   "metadata": {},
   "outputs": [],
   "source": [
    "timelag = -fitted_intercept/fitted_slope\n",
    "t_fit = np.linspace(timelag, t.max()).to(ureg.min)\n",
    "\n",
    "plt.errorbar(t, noisy_p_down, yerr=relative_p_down_error*noisy_p_down)\n",
    "plt.plot(t_fit, linearFunc(t_fit, fitted_intercept, fitted_slope))\n",
    "\n",
    "plt.axvline(x=timelag, linestyle=\"dashed\", color=\"tab:grey\")\n",
    "plt.annotate(r\"$\\tau_\\mathrm{timelag}$\", (timelag*1.1, 300*ureg.Pa))\n",
    "\n",
    "plt.xlabel(f\"Time ({t.units:~})\")\n",
    "plt.ylabel(f\"Downstream pressure ({noisy_p_down.units:~})\")\n",
    "plt.ylim(bottom=0)\n",
    "plt.xlim(left=0)\n",
    "plt.show()"
   ]
  },
  {
   "attachments": {},
   "cell_type": "markdown",
   "metadata": {},
   "source": [
    "## Determination of H properties and uncertainty quantification\n",
    "\n",
    "We use the `uncertainties` package to compute the error propagation of the permeation method.\n",
    "\n",
    "The uncertainties associated with the slope and intercept are computed by `curve_fit` (see above).\n",
    "\n",
    "Temperature: $\\Delta T = 0.75 \\ \\%$\n",
    "\n",
    "Upstream pressure: $\\Delta P = 0.5 \\ \\%$\n",
    "\n",
    "Downstream pressure: $\\Delta P = 5 \\ \\%$ (already included in the noise, see above)"
   ]
  },
  {
   "cell_type": "code",
   "execution_count": null,
   "metadata": {},
   "outputs": [],
   "source": [
    "from uncertainties import ufloat\n",
    "\n",
    "slope_u = ufloat(\n",
    "    fitted_slope.to(ureg.Pa * ureg.s**-1).magnitude,\n",
    "    d_slope.to(ureg.Pa * ureg.s**-1).magnitude,\n",
    ")\n",
    "slope_u *= ureg.Pa * ureg.s**-1\n",
    "\n",
    "\n",
    "intercept_u = ufloat(\n",
    "    fitted_intercept.to(ureg.Pa).magnitude,\n",
    "    d_inter.to(ureg.Pa).magnitude,\n",
    ")\n",
    "intercept_u *= ureg.Pa\n",
    "\n",
    "T = T.to(ureg.K)\n",
    "T_u = ufloat(T.magnitude, 0.75 / 100 * T.magnitude) * ureg.K\n",
    "\n",
    "P_up = P_up.to(ureg.Pa)\n",
    "P_up_u = ufloat(P_up.magnitude, 0.5 / 100 * P_up.magnitude) * ureg.Pa\n"
   ]
  },
  {
   "attachments": {},
   "cell_type": "markdown",
   "metadata": {},
   "source": [
    "### Permeability\n",
    "\n",
    "The permeability $\\Phi$ is given by:\n",
    "\n",
    "$$\\Phi = \\frac{S}{P_\\mathrm{up} \\ T} \\ \\frac{V \\ L}{R_g \\ A} $$\n",
    "\n",
    "where $S$ is the slope of the pressure rise."
   ]
  },
  {
   "cell_type": "code",
   "execution_count": null,
   "metadata": {},
   "outputs": [],
   "source": [
    "permeability_u = slope_u * P_up_u**-1 * T_u**-1 * V_down * L / Rg / A\n",
    "permeability_u = permeability_u.to(ureg.particle * ureg.m**-1 * ureg.Pa**-1 * ureg.s**-1)\n",
    "\n",
    "print(f\"Measured: {permeability_u:~P}\")\n",
    "print(f\"Real: {D_flinak*K_flinak:.2e~P}\")"
   ]
  },
  {
   "attachments": {},
   "cell_type": "markdown",
   "metadata": {},
   "source": [
    "### Diffusivity\n",
    "\n",
    "The timelag $\\tau_\\mathrm{timelag}$ is defined as:\n",
    "$$\\tau_\\mathrm{timelag} = \\frac{L^2}{6 \\ D}$$\n",
    "\n",
    "where $D$ is the diffusivity.\n",
    "\n",
    "\n",
    "The timelag corresponds to the time when the linear pressure rise curve intersects with the X axis.\n",
    "\n",
    "$$P(t=\\tau_\\mathrm{timelag}) = 0$$\n",
    "\n",
    "wich can be written as:\n",
    "\n",
    "$$S \\ \\tau_\\mathrm{timelag} + I = 0$$\n",
    "\n",
    "where $S$ and $I$ are respectively the slope and the intercept of the steady pressure rise curve.\n",
    "\n",
    "\n",
    "The diffusivity $D$ can therefore be expressed by:\n",
    "\n",
    "$$D = \\frac{S}{6 \\ I} \\ L^2$$\n"
   ]
  },
  {
   "cell_type": "code",
   "execution_count": null,
   "metadata": {},
   "outputs": [],
   "source": [
    "diffusivity_u = -slope_u/(6 * intercept_u) * L**2\n",
    "diffusivity_u = diffusivity_u.to(ureg.m**2 * ureg.s**-1)\n",
    "\n",
    "print(f\"Measured: {diffusivity_u:~P}\")\n",
    "print(f\"Real: {D_flinak:.2e~P}\")"
   ]
  },
  {
   "attachments": {},
   "cell_type": "markdown",
   "metadata": {},
   "source": [
    "### Solubility\n",
    "The solubility $K_H$ is given as:\n",
    "\n",
    "$$K_H = \\Phi / D$$"
   ]
  },
  {
   "cell_type": "code",
   "execution_count": null,
   "metadata": {},
   "outputs": [],
   "source": [
    "solubility_u = permeability_u / diffusivity_u\n",
    "solubility_u = solubility_u.to(ureg.particle * ureg.m**-3 * ureg.Pa**-1)\n",
    "\n",
    "print(f\"Measured: {solubility_u:~P}\")\n",
    "print(f\"Real: {K_flinak:.2e~P}\")"
   ]
  },
  {
   "attachments": {},
   "cell_type": "markdown",
   "metadata": {},
   "source": [
    "## Conclusion\n",
    "\n",
    "The permeation method is a well-established method for measuring diffusivities and solubilities of metals but also molten salts.\n",
    "\n",
    "The uncertainty associated with diffusivities and solubilities are reasonable ($<10 \\ \\%$).\n",
    "Moreover, efforts aiming to reduce the uncertainty of the downstream pressure measurement will help driving the overall error down.\n",
    "\n",
    "### TODO: what would be the error associated with geometrical measurements?"
   ]
  }
 ],
 "metadata": {
  "kernelspec": {
   "display_name": "Python 3",
   "language": "python",
   "name": "python3"
  },
  "language_info": {
   "codemirror_mode": {
    "name": "ipython",
    "version": 3
   },
   "file_extension": ".py",
   "mimetype": "text/x-python",
   "name": "python",
   "nbconvert_exporter": "python",
   "pygments_lexer": "ipython3",
   "version": "3.11.4"
  },
  "orig_nbformat": 4,
  "vscode": {
   "interpreter": {
    "hash": "5238573367df39f7286bb46f9ff5f08f63a01a80960060ce41e3c79b190280fa"
   }
  }
 },
 "nbformat": 4,
 "nbformat_minor": 2
}
